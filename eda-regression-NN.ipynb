{
 "cells": [
  {
   "cell_type": "code",
   "execution_count": 1,
   "metadata": {
    "_cell_guid": "b1076dfc-b9ad-4769-8c92-a6c4dae69d19",
    "_uuid": "8f2839f25d086af736a60e9eeb907d3b93b6e0e5"
   },
   "outputs": [],
   "source": [
    "\n",
    "import numpy as np \n",
    "import pandas as pd \n",
    "import os\n",
    "import matplotlib.pyplot as pl\n",
    "import seaborn as sns\n",
    "import warnings\n",
    "warnings.filterwarnings('ignore')\n",
    "data = pd.read_csv('insurance.csv')\n"
   ]
  },
  {
   "cell_type": "markdown",
   "metadata": {
    "_uuid": "30e2ecc0679548b3d7dc884e02a4213304d46843"
   },
   "source": [
    "Michael Woodburn: I'm seeking to explore and improve upon the work done by the great Dandelion https://www.kaggle.com/hely333/eda-regression/notebook in her analysis of insurance costs.\n",
    "\n",
    "Dandelion:\n",
    "Today we will explore a data set dedicated to the cost of treatment of different patients.  The cost of treatment depends on many factors: diagnosis, type of clinic, city of residence, age and so on. We have no data on the diagnosis of patients. But we have other information that can help us to make a conclusion about the health of patients and practice regression analysis.\n",
    "In any case, I wish you to be healthy!\n"
   ]
  },
  {
   "cell_type": "code",
   "execution_count": 2,
   "metadata": {
    "_uuid": "97d89e70b07b50aabe4a4c85ac92eeef3772cb84"
   },
   "outputs": [
    {
     "data": {
      "text/html": [
       "<div>\n",
       "<style scoped>\n",
       "    .dataframe tbody tr th:only-of-type {\n",
       "        vertical-align: middle;\n",
       "    }\n",
       "\n",
       "    .dataframe tbody tr th {\n",
       "        vertical-align: top;\n",
       "    }\n",
       "\n",
       "    .dataframe thead th {\n",
       "        text-align: right;\n",
       "    }\n",
       "</style>\n",
       "<table border=\"1\" class=\"dataframe\">\n",
       "  <thead>\n",
       "    <tr style=\"text-align: right;\">\n",
       "      <th></th>\n",
       "      <th>age</th>\n",
       "      <th>sex</th>\n",
       "      <th>bmi</th>\n",
       "      <th>children</th>\n",
       "      <th>smoker</th>\n",
       "      <th>region</th>\n",
       "      <th>charges</th>\n",
       "    </tr>\n",
       "  </thead>\n",
       "  <tbody>\n",
       "    <tr>\n",
       "      <th>0</th>\n",
       "      <td>19</td>\n",
       "      <td>female</td>\n",
       "      <td>27.900</td>\n",
       "      <td>0</td>\n",
       "      <td>yes</td>\n",
       "      <td>southwest</td>\n",
       "      <td>16884.92400</td>\n",
       "    </tr>\n",
       "    <tr>\n",
       "      <th>1</th>\n",
       "      <td>18</td>\n",
       "      <td>male</td>\n",
       "      <td>33.770</td>\n",
       "      <td>1</td>\n",
       "      <td>no</td>\n",
       "      <td>southeast</td>\n",
       "      <td>1725.55230</td>\n",
       "    </tr>\n",
       "    <tr>\n",
       "      <th>2</th>\n",
       "      <td>28</td>\n",
       "      <td>male</td>\n",
       "      <td>33.000</td>\n",
       "      <td>3</td>\n",
       "      <td>no</td>\n",
       "      <td>southeast</td>\n",
       "      <td>4449.46200</td>\n",
       "    </tr>\n",
       "    <tr>\n",
       "      <th>3</th>\n",
       "      <td>33</td>\n",
       "      <td>male</td>\n",
       "      <td>22.705</td>\n",
       "      <td>0</td>\n",
       "      <td>no</td>\n",
       "      <td>northwest</td>\n",
       "      <td>21984.47061</td>\n",
       "    </tr>\n",
       "    <tr>\n",
       "      <th>4</th>\n",
       "      <td>32</td>\n",
       "      <td>male</td>\n",
       "      <td>28.880</td>\n",
       "      <td>0</td>\n",
       "      <td>no</td>\n",
       "      <td>northwest</td>\n",
       "      <td>3866.85520</td>\n",
       "    </tr>\n",
       "  </tbody>\n",
       "</table>\n",
       "</div>"
      ],
      "text/plain": [
       "   age     sex     bmi  children smoker     region      charges\n",
       "0   19  female  27.900         0    yes  southwest  16884.92400\n",
       "1   18    male  33.770         1     no  southeast   1725.55230\n",
       "2   28    male  33.000         3     no  southeast   4449.46200\n",
       "3   33    male  22.705         0     no  northwest  21984.47061\n",
       "4   32    male  28.880         0     no  northwest   3866.85520"
      ]
     },
     "execution_count": 2,
     "metadata": {},
     "output_type": "execute_result"
    }
   ],
   "source": [
    "data.head()"
   ]
  },
  {
   "cell_type": "code",
   "execution_count": 3,
   "metadata": {
    "_uuid": "6e52e4345af572ad533c561f955789c42dbbb4e7"
   },
   "outputs": [
    {
     "data": {
      "text/plain": [
       "age         0\n",
       "sex         0\n",
       "bmi         0\n",
       "children    0\n",
       "smoker      0\n",
       "region      0\n",
       "charges     0\n",
       "dtype: int64"
      ]
     },
     "execution_count": 3,
     "metadata": {},
     "output_type": "execute_result"
    }
   ],
   "source": [
    "data.isnull().sum()"
   ]
  },
  {
   "cell_type": "markdown",
   "metadata": {
    "_uuid": "b5c5638d94dd67c30fa6e0937b0f7147ab30ae76"
   },
   "source": [
    "A good day is when there is no \"NaN\"in the data :D\n",
    "Let's look at our data to understand something about it.\n",
    "Since we are primarily interested in the amount of costs see what posts are more correlated with charges. For a start, we will encode categorical features.\n"
   ]
  },
  {
   "cell_type": "code",
   "execution_count": 4,
   "metadata": {
    "_uuid": "9a65199cbbaa94b4a9edf744e23529d4e842cd6d"
   },
   "outputs": [
    {
     "data": {
      "text/plain": [
       "LabelEncoder()"
      ]
     },
     "execution_count": 4,
     "metadata": {},
     "output_type": "execute_result"
    }
   ],
   "source": [
    "from sklearn.preprocessing import LabelEncoder\n",
    "#sex\n",
    "le = LabelEncoder()\n",
    "le.fit(data.sex.drop_duplicates()) "
   ]
  },
  {
   "cell_type": "code",
   "execution_count": 5,
   "metadata": {
    "_uuid": "9a65199cbbaa94b4a9edf744e23529d4e842cd6d"
   },
   "outputs": [],
   "source": [
    "data.sex = le.transform(data.sex)\n",
    "# smoker or not\n",
    "le.fit(data.smoker.drop_duplicates()) \n",
    "data.smoker = le.transform(data.smoker)"
   ]
  },
  {
   "cell_type": "code",
   "execution_count": 6,
   "metadata": {
    "_uuid": "9a65199cbbaa94b4a9edf744e23529d4e842cd6d"
   },
   "outputs": [
    {
     "data": {
      "text/plain": [
       "'A few words about coding \"region\". In general, categorical variables with large variability are best encoded using OneHotEncoder and so on.  \\nBut in this case, nothing will change, because there is no special order in which the regions would be listed. So I\\'m being very lazy only used the Label Encoder.\"\" - Dandelion '"
      ]
     },
     "execution_count": 6,
     "metadata": {},
     "output_type": "execute_result"
    }
   ],
   "source": [
    "#region\n",
    "#le.fit(data.region.drop_duplicates()) \n",
    "#data.region = le.transform(data.region)\n",
    "\"\"\"A few words about coding \"region\". In general, categorical variables with large variability are best encoded using OneHotEncoder and so on.  \n",
    "But in this case, nothing will change, because there is no special order in which the regions would be listed. So I'm being very lazy only used the Label Encoder.\"\" - Dandelion \"\"\"\n",
    "\n"
   ]
  },
  {
   "cell_type": "markdown",
   "metadata": {},
   "source": [
    "I think it's reasonable to one-hot-encode the regions."
   ]
  },
  {
   "cell_type": "code",
   "execution_count": 7,
   "metadata": {
    "_uuid": "000677f443ee8078ea2fd98e7db6710c596cf4de"
   },
   "outputs": [
    {
     "data": {
      "text/plain": [
       "1338"
      ]
     },
     "execution_count": 7,
     "metadata": {},
     "output_type": "execute_result"
    }
   ],
   "source": [
    "r_dummies = pd.get_dummies(data.region)\n",
    "len(r_dummies)\n"
   ]
  },
  {
   "cell_type": "code",
   "execution_count": null,
   "metadata": {},
   "outputs": [],
   "source": []
  },
  {
   "cell_type": "code",
   "execution_count": 8,
   "metadata": {},
   "outputs": [],
   "source": [
    "data_encoded = pd.concat((data,r_dummies),axis=1)"
   ]
  },
  {
   "cell_type": "code",
   "execution_count": 9,
   "metadata": {},
   "outputs": [],
   "source": [
    "data = data_encoded"
   ]
  },
  {
   "cell_type": "code",
   "execution_count": 13,
   "metadata": {
    "_uuid": "bfddef4e1586305a85bf76990885cd91f5d6c1c6"
   },
   "outputs": [],
   "source": [
    "from sklearn.linear_model import LinearRegression\n",
    "from sklearn.model_selection import train_test_split\n",
    "from sklearn.preprocessing import PolynomialFeatures\n",
    "from sklearn.metrics import r2_score,mean_squared_error\n",
    "from sklearn.ensemble import RandomForestRegressor\n",
    "from sklearn.neural_network import MLPRegressor"
   ]
  },
  {
   "cell_type": "code",
   "execution_count": 38,
   "metadata": {},
   "outputs": [],
   "source": [
    "from sklearn.neighbors import KNeighborsRegressor\n",
    "from sklearn.preprocessing import StandardScaler\n",
    "import matplotlib.pyplot as plt"
   ]
  },
  {
   "cell_type": "code",
   "execution_count": 17,
   "metadata": {},
   "outputs": [
    {
     "name": "stdout",
     "output_type": "stream",
     "text": [
      "0.884129348260403\n"
     ]
    }
   ],
   "source": [
    "scaler = StandardScaler()\n",
    "\n",
    "x = data.drop(['charges','region'], axis = 1)\n",
    "y = data.charges\n",
    "\n",
    "X = scaler.fit_transform(x)\n",
    "\n",
    "\n",
    "\n",
    "quad = PolynomialFeatures (degree = 2)\n",
    "x_quad = quad.fit_transform(X)\n",
    "\n",
    "X_train,X_test,Y_train,Y_test = train_test_split(x_quad,y, random_state = 0)\n",
    "\n",
    "plr = LinearRegression().fit(X_train,Y_train)\n",
    "\n",
    "Y_train_pred = plr.predict(X_train)\n",
    "Y_test_pred = plr.predict(X_test)\n",
    "\n",
    "print(plr.score(X_test,Y_test))"
   ]
  },
  {
   "cell_type": "markdown",
   "metadata": {},
   "source": [
    "Nice, so scaling the data first does improve R2. So now, what about going cubic? Our best result so far is 0.884129348260403."
   ]
  },
  {
   "cell_type": "code",
   "execution_count": 20,
   "metadata": {},
   "outputs": [],
   "source": [
    "scaler = StandardScaler()\n",
    "\n",
    "x = data.drop(['charges','region'], axis = 1)\n",
    "y = data.charges\n",
    "\n",
    "x = scaler.fit_transform(x)\n",
    "\n",
    "x_train,x_test,y_train,y_test = train_test_split(x,y, random_state = 0);"
   ]
  },
  {
   "cell_type": "code",
   "execution_count": 44,
   "metadata": {},
   "outputs": [
    {
     "data": {
      "text/plain": [
       "MLPRegressor(activation='relu', alpha=0.0001, batch_size='auto', beta_1=0.9,\n",
       "             beta_2=0.999, early_stopping=False, epsilon=1e-08,\n",
       "             hidden_layer_sizes=(100,), learning_rate='constant',\n",
       "             learning_rate_init=0.001, max_iter=20000, momentum=0.9,\n",
       "             n_iter_no_change=10, nesterovs_momentum=True, power_t=0.5,\n",
       "             random_state=None, shuffle=True, solver='adam', tol=0.0001,\n",
       "             validation_fraction=0.1, verbose=False, warm_start=False)"
      ]
     },
     "execution_count": 44,
     "metadata": {},
     "output_type": "execute_result"
    }
   ],
   "source": [
    "NN = MLPRegressor(max_iter = 2000,learning_rate = 'adaptive', learning_rate_init = 0.01)\n",
    "NN.fit(x_train, y_train)"
   ]
  },
  {
   "cell_type": "code",
   "execution_count": 45,
   "metadata": {},
   "outputs": [
    {
     "data": {
      "text/plain": [
       "13397"
      ]
     },
     "execution_count": 45,
     "metadata": {},
     "output_type": "execute_result"
    }
   ],
   "source": [
    "NN.n_iter_"
   ]
  },
  {
   "cell_type": "code",
   "execution_count": 46,
   "metadata": {},
   "outputs": [
    {
     "name": "stdout",
     "output_type": "stream",
     "text": [
      "0.8158118628596454\n",
      "0.8606841552037668\n"
     ]
    }
   ],
   "source": [
    "print(NN.score(x_train, y_train))\n",
    "#print(NN.score(x_val, y_val))\n",
    "print(NN.score(x_test, y_test))\n"
   ]
  },
  {
   "cell_type": "code",
   "execution_count": 47,
   "metadata": {},
   "outputs": [],
   "source": [
    "preds = NN.predict(x_train)"
   ]
  },
  {
   "cell_type": "code",
   "execution_count": 48,
   "metadata": {},
   "outputs": [
    {
     "data": {
      "text/plain": [
       "0.8158118628596454"
      ]
     },
     "execution_count": 48,
     "metadata": {},
     "output_type": "execute_result"
    }
   ],
   "source": [
    "r2_score(y_train,preds)"
   ]
  },
  {
   "cell_type": "code",
   "execution_count": 49,
   "metadata": {},
   "outputs": [
    {
     "data": {
      "text/plain": [
       "<matplotlib.collections.PathCollection at 0x7f2a3c169208>"
      ]
     },
     "execution_count": 49,
     "metadata": {},
     "output_type": "execute_result"
    },
    {
     "data": {
      "image/png": "[encoded data removed]",
      "text/plain": [
       "<Figure size 432x288 with 1 Axes>"
      ]
     },
     "metadata": {
      "needs_background": "light"
     },
     "output_type": "display_data"
    }
   ],
   "source": [
    "plt.scatter(y_train,preds)"
   ]
  },
  {
   "cell_type": "code",
   "execution_count": 51,
   "metadata": {},
   "outputs": [
    {
     "name": "stdout",
     "output_type": "stream",
     "text": [
      "2000\n",
      "train score is  0.8335832859044785\n",
      "val score is  0.8779264050165463\n"
     ]
    }
   ],
   "source": [
    "NN = MLPRegressor(max_iter = 2000,learning_rate = 'adaptive', learning_rate_init = 0.01,n_iter_no_change=100)\n",
    "NN.fit(x_train, y_train)\n",
    "print(NN.n_iter_)\n",
    "print('train score is ',NN.score(x_train, y_train))\n",
    "#print(NN.score(x_val, y_val))\n",
    "print('val score is ', NN.score(x_test, y_test))\n"
   ]
  },
  {
   "cell_type": "code",
   "execution_count": 52,
   "metadata": {},
   "outputs": [
    {
     "name": "stdout",
     "output_type": "stream",
     "text": [
      "4719\n",
      "train score is  0.8331884083301245\n",
      "val score is  0.8829008463342767\n"
     ]
    }
   ],
   "source": [
    "NN = MLPRegressor(max_iter = 20000,learning_rate = 'adaptive', learning_rate_init = 0.01,n_iter_no_change=100)\n",
    "NN.fit(x_train, y_train)\n",
    "print(NN.n_iter_)\n",
    "print('train score is ',NN.score(x_train, y_train))\n",
    "#print(NN.score(x_val, y_val))\n",
    "print('val score is ', NN.score(x_test, y_test))\n"
   ]
  },
  {
   "cell_type": "markdown",
   "metadata": {},
   "source": [
    "So by using a neural network my final score is only slightly less than the ideal polynomial. And that's with only a little tinkering with my parameters. This great result makes me wonder what else I might achieve. Perhaps with a slightly more complex NN?"
   ]
  },
  {
   "cell_type": "code",
   "execution_count": null,
   "metadata": {},
   "outputs": [],
   "source": []
  },
  {
   "cell_type": "code",
   "execution_count": 57,
   "metadata": {},
   "outputs": [
    {
     "name": "stdout",
     "output_type": "stream",
     "text": [
      "273\n",
      "train score is  0.8490795223030465\n",
      "val score is  0.8795557658407891\n"
     ]
    }
   ],
   "source": [
    "NN = MLPRegressor(hidden_layer_sizes = (100,1000,20), max_iter = 2000,learning_rate = 'adaptive', learning_rate_init = 0.01, n_iter_no_change=100, early_stopping=True)\n",
    "NN.fit(x_train, y_train)\n",
    "print(NN.n_iter_)\n",
    "print('train score is ',NN.score(x_train, y_train))\n",
    "#print(NN.score(x_val, y_val))\n",
    "print('val score is ', NN.score(x_test, y_test))"
   ]
  },
  {
   "cell_type": "markdown",
   "metadata": {},
   "source": [
    "An almost imperceptible increase in accuracy on most runs."
   ]
  },
  {
   "cell_type": "code",
   "execution_count": 58,
   "metadata": {},
   "outputs": [
    {
     "name": "stdout",
     "output_type": "stream",
     "text": [
      "407\n",
      "train score is  0.8557913627634572\n",
      "val score is  0.884937891766023\n"
     ]
    }
   ],
   "source": [
    "NN = MLPRegressor(early_stopping=True,hidden_layer_sizes = (100,1000,20), max_iter = 2000,learning_rate = 'adaptive', learning_rate_init = 0.01, n_iter_no_change=200)\n",
    "NN.fit(x_train, y_train)\n",
    "print(NN.n_iter_)\n",
    "print('train score is ',NN.score(x_train, y_train))\n",
    "#print(NN.score(x_val, y_val))\n",
    "print('val score is ', NN.score(x_test, y_test))"
   ]
  },
  {
   "cell_type": "markdown",
   "metadata": {},
   "source": [
    "With a validation score = 0.884937891766023, this is the first time I've achieved supremacy with a NN. I'm very happy with this result, as I haven't had to choose polynomial degree etc. Moreover, with a similar score between both train and val, I'm confident that I'm not overfitting."
   ]
  },
  {
   "cell_type": "code",
   "execution_count": null,
   "metadata": {},
   "outputs": [],
   "source": []
  }
 ],
 "metadata": {
  "kernelspec": {
   "display_name": "Python 3",
   "language": "python",
   "name": "python3"
  },
  "language_info": {
   "codemirror_mode": {
    "name": "ipython",
    "version": 3
   },
   "file_extension": ".py",
   "mimetype": "text/x-python",
   "name": "python",
   "nbconvert_exporter": "python",
   "pygments_lexer": "ipython3",
   "version": "3.7.3"
  }
 },
 "nbformat": 4,
 "nbformat_minor": 4
}
